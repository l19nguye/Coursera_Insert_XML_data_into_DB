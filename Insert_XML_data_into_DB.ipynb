{
 "cells": [
  {
   "cell_type": "code",
   "execution_count": 191,
   "metadata": {
    "collapsed": true
   },
   "outputs": [],
   "source": [
    "# What i will do here are:\n",
    "# 1. Create database tracks.db (using SQLite Studio), then create 4 tables mentioned in the READ ME.txt\n",
    "# 2. Take a look the structure of Library.xml file to figure out :\n",
    "    # - how to extract informations of one track? \n",
    "    # - how to extract each information of a individual track?\n",
    "# 3. Use the code written in 2 to extract data what we need the insert into database."
   ]
  },
  {
   "cell_type": "code",
   "execution_count": 192,
   "metadata": {
    "collapsed": true
   },
   "outputs": [],
   "source": [
    "######################################################################################################\n",
    "############################################# START ##################################################\n",
    "######################################################################################################"
   ]
  },
  {
   "cell_type": "code",
   "execution_count": 193,
   "metadata": {
    "collapsed": true
   },
   "outputs": [],
   "source": [
    "# 1. Create database tracks.db (using SQLite Studio), then create 4 tables mentioned in the READ ME.txt"
   ]
  },
  {
   "cell_type": "code",
   "execution_count": 194,
   "metadata": {
    "collapsed": true
   },
   "outputs": [],
   "source": [
    "############################################ START 1 #################################################\n",
    "\n",
    "import sqlite3 as sql\n",
    "\n",
    "tracks_db_file = r\"tracks.db\"\n",
    "xml_file = r\"Library.xml\"\n",
    "\n",
    "# i created a database and named it \"tracks.db\" by using SQLite Studio tool.\n",
    "# so here write sql scripts to create 4 tables: Artist, Album, Genre and Track\n",
    "# then I will connect to the database and run those scripts\n",
    "# after that we will have 4 tables ready for inserting data.\n",
    "\n",
    "sql_create_tables = '''\n",
    "\n",
    "DROP TABLE IF EXISTS Artist;\n",
    "DROP TABLE IF EXISTS Album;\n",
    "DROP TABLE IF EXISTS Genre;\n",
    "DROP TABLE IF EXISTS Track;\n",
    "\n",
    "CREATE TABLE Artist (\n",
    "    id   INTEGER NOT NULL PRIMARY KEY AUTOINCREMENT UNIQUE,\n",
    "    name TEXT UNIQUE\n",
    ");\n",
    "\n",
    "CREATE TABLE Album (\n",
    "    id        INTEGER NOT NULL PRIMARY KEY AUTOINCREMENT UNIQUE,\n",
    "    artist_id INTEGER,\n",
    "    title     TEXT UNIQUE\n",
    ");\n",
    "\n",
    "CREATE TABLE Genre (\n",
    "    id       INTEGER NOT NULL PRIMARY KEY AUTOINCREMENT UNIQUE,\n",
    "    name     TEXT UNIQUE\n",
    ");\n",
    "\n",
    "CREATE TABLE Track (    \n",
    "    id       INTEGER NOT NULL PRIMARY KEY AUTOINCREMENT UNIQUE,\n",
    "    title    TEXT UNIQUE,\n",
    "    album_id INTEGER,\n",
    "    genre_id INTEGER,\n",
    "    length   INTEGER,\n",
    "    rating   INTEGER,\n",
    "    count    INTEGER\n",
    ")\n",
    "\n",
    "'''"
   ]
  },
  {
   "cell_type": "code",
   "execution_count": 195,
   "metadata": {
    "collapsed": false
   },
   "outputs": [],
   "source": [
    "# open the created database\n",
    "connection = sql.connect(tracks_db_file)\n",
    "\n",
    "# define cursor variable\n",
    "curr = connection.cursor()"
   ]
  },
  {
   "cell_type": "code",
   "execution_count": 196,
   "metadata": {
    "collapsed": false
   },
   "outputs": [
    {
     "data": {
      "text/plain": [
       "<sqlite3.Cursor at 0x1e54997e650>"
      ]
     },
     "execution_count": 196,
     "metadata": {},
     "output_type": "execute_result"
    }
   ],
   "source": [
    "# run scripts to create tables\n",
    "curr.executescript(sql_create_tables)"
   ]
  },
  {
   "cell_type": "code",
   "execution_count": 197,
   "metadata": {
    "collapsed": true
   },
   "outputs": [],
   "source": [
    "############################################ END 1 #################################################"
   ]
  },
  {
   "cell_type": "code",
   "execution_count": 198,
   "metadata": {
    "collapsed": true
   },
   "outputs": [],
   "source": [
    "# 2. Take a look the structure of Library.xml file to figure out :\n",
    "    # 2.1 how to extract informations of one track? \n",
    "    # 2.2 how to extract each information of a individual track?"
   ]
  },
  {
   "cell_type": "code",
   "execution_count": 199,
   "metadata": {
    "collapsed": true
   },
   "outputs": [],
   "source": [
    "############################################ START 2 #################################################"
   ]
  },
  {
   "cell_type": "code",
   "execution_count": 200,
   "metadata": {
    "collapsed": true
   },
   "outputs": [],
   "source": [
    "# open Library.xml to take a look the structure of data inside\n",
    "# then we could see the structure likes the below\n",
    "\n",
    "#<dict>\n",
    "#   ......\n",
    "#   <dict>\n",
    "#       .............\n",
    "#        <dict>\n",
    "#          <key>Track ID</key><integer>369</integer>\n",
    "#          <key>Name</key><string>Another One Bites The Dust</string>\n",
    "#          <key>Artist</key><string>Queen</string>\n",
    "#          <key>Composer</key><string>John Deacon</string>\n",
    "#          <key>Album</key><string>Greatest Hits</string>\n",
    "#          <key>Genre</key><string>Rock</string>\n",
    "#          <key>Kind</key><string>MPEG audio file</string>\n",
    "#          <key>Size</key><integer>4344295</integer>\n",
    "#          <key>Total Time</key><integer>217103</integer>\n",
    "#          <key>Disc Number</key><integer>1</integer>\n",
    "#          <key>Disc Count</key><integer>1</integer>\n",
    "#          <key>Track Number</key><integer>3</integer>\n",
    "#           ..............................................\n",
    "#        </dict>\n",
    "#        <dict>\n",
    "#           ..........................\n",
    "#        </dict>\n",
    "#        <dict>\n",
    "#           ..........................\n",
    "#        </dict>\n",
    "#        <dict>\n",
    "#           ..........................\n",
    "#        </dict>\n",
    "#   </dict>\n",
    "#</dict>"
   ]
  },
  {
   "cell_type": "code",
   "execution_count": 201,
   "metadata": {
    "collapsed": false
   },
   "outputs": [
    {
     "name": "stdout",
     "output_type": "stream",
     "text": [
      "Track ID\n",
      "369\n",
      "Name\n",
      "Another One Bites The Dust\n",
      "Artist\n",
      "Queen\n",
      "Composer\n",
      "John Deacon\n",
      "Album\n",
      "Greatest Hits\n"
     ]
    }
   ],
   "source": [
    "# each track's informations in the 3rd <dict> tag\n",
    "# in order to read the xml file, i'm using The ElementTree XML API\n",
    "\n",
    "import xml.etree.ElementTree as etree\n",
    "\n",
    "# parse data inside the file into elements of a tree\n",
    "tree = etree.parse(xml_file)\n",
    "\n",
    "# from the tree, we want to extract the content in each 3rd <dict> tag where has track's informations\n",
    "list_tracks = tree.findall('dict/dict/dict')\n",
    "\n",
    "# so now we have a list which contains all tracks, each track is an Element object\n",
    "# each that Element also contains several Elements which are track's informations\n",
    "# try to print out some sample informations of one track\n",
    "for i in range(10):\n",
    "    print(list_tracks[0][i].text)"
   ]
  },
  {
   "cell_type": "code",
   "execution_count": 202,
   "metadata": {
    "collapsed": false
   },
   "outputs": [
    {
     "name": "stdout",
     "output_type": "stream",
     "text": [
      "Another One Bites The Dust\n",
      "Queen\n"
     ]
    }
   ],
   "source": [
    "# with the first track from the list, we can see that it has:\n",
    "# Track ID : 369\n",
    "# Name     : Another One Bites The Dust\n",
    "# Artist   : Queen\n",
    "# Composer : John Deacon\n",
    "# Album    : Greatest Hits\n",
    "# and some other informations we have not yet printed out.\n",
    "\n",
    "# we just want to extract those information (369, \"Another One Bites The Dust\", \"Queen\", \"John Deacon\", \"Greatest Hits\" ...) \n",
    "# not labels (Track ID, Name, Artist, Composer, Album ...)\n",
    "# so i will write a function to return value of a label of a track\n",
    "\n",
    "def get_track_infor(track, labelName):\n",
    "    elements = track.getiterator()\n",
    "    for item in elements:\n",
    "        if item.text == labelName:\n",
    "            return next(elements).text\n",
    "\n",
    "\n",
    "# print out Name and Artist of the first track\n",
    "print(get_track_infor(list_tracks[0], \"Name\"))\n",
    "print(get_track_infor(list_tracks[0], \"Artist\"))"
   ]
  },
  {
   "cell_type": "code",
   "execution_count": 203,
   "metadata": {
    "collapsed": true
   },
   "outputs": [],
   "source": [
    "# so now i have a list of all track and i also have a function to extract all information of a individual track"
   ]
  },
  {
   "cell_type": "code",
   "execution_count": 204,
   "metadata": {
    "collapsed": true
   },
   "outputs": [],
   "source": [
    "############################################ END 2 #################################################"
   ]
  },
  {
   "cell_type": "code",
   "execution_count": 205,
   "metadata": {
    "collapsed": true
   },
   "outputs": [],
   "source": [
    "# 3. Use the code written in 2 to extract data what we need the insert into database."
   ]
  },
  {
   "cell_type": "code",
   "execution_count": 206,
   "metadata": {
    "collapsed": true
   },
   "outputs": [],
   "source": [
    "############################################ START 3 ###############################################"
   ]
  },
  {
   "cell_type": "code",
   "execution_count": 207,
   "metadata": {
    "collapsed": true
   },
   "outputs": [],
   "source": [
    "# since we need to insert artist_id into table Album, album_id and genre_id into table Track\n",
    "# but we don't have those infor until we add new records into table Artist, Album and Genre.\n",
    "# so after adding new records, we need to select new id for the next INSERT sql scripts"
   ]
  },
  {
   "cell_type": "code",
   "execution_count": 208,
   "metadata": {
    "collapsed": true
   },
   "outputs": [],
   "source": [
    "# add a new artist\n",
    "def insert_new_artist(artist_name):\n",
    "    if artist is not None:\n",
    "        curr.execute(\"Insert or Ignore into Artist (name) values (?)\", (artist_name, ))\n",
    "        connection.commit()"
   ]
  },
  {
   "cell_type": "code",
   "execution_count": 209,
   "metadata": {
    "collapsed": false
   },
   "outputs": [],
   "source": [
    "# get the artist_id\n",
    "def get_artist_id(artist_name):\n",
    "    if artist is not None:\n",
    "        curr.execute(\"select id from Artist where name = ? \", (artist_name, ))\n",
    "        return curr.fetchone()[0]"
   ]
  },
  {
   "cell_type": "code",
   "execution_count": 210,
   "metadata": {
    "collapsed": true
   },
   "outputs": [],
   "source": [
    "# add a new album\n",
    "def insert_new_album(album_name, artist_id):\n",
    "    if artist_id is not None and album_name is not None:\n",
    "        curr.execute(\"Insert or Ignore into Album (artist_id, title) values (?, ?)\", (artist_id, album_name))\n",
    "        connection.commit()"
   ]
  },
  {
   "cell_type": "code",
   "execution_count": 211,
   "metadata": {
    "collapsed": true
   },
   "outputs": [],
   "source": [
    "# get the album_id\n",
    "def get_album_id(album_name):\n",
    "    if album_name is not None:\n",
    "        curr.execute(\"select id from Album where title = ? \", (album_name, ))\n",
    "        return curr.fetchone()[0]"
   ]
  },
  {
   "cell_type": "code",
   "execution_count": 212,
   "metadata": {
    "collapsed": true
   },
   "outputs": [],
   "source": [
    "# add a new genre\n",
    "def insert_new_genre(genre_name):\n",
    "    if genre_name is not None:\n",
    "        curr.execute(\"Insert or Ignore into Genre (name) values (?)\", (genre_name, ))\n",
    "        connection.commit()"
   ]
  },
  {
   "cell_type": "code",
   "execution_count": 213,
   "metadata": {
    "collapsed": true
   },
   "outputs": [],
   "source": [
    "# get the genre_id\n",
    "def get_genre_id(genre_name):\n",
    "    if genre_name is not None:\n",
    "        curr.execute(\"select id from Genre where name = ? \", (genre_name, ))\n",
    "        return curr.fetchone()[0]"
   ]
  },
  {
   "cell_type": "code",
   "execution_count": 214,
   "metadata": {
    "collapsed": false
   },
   "outputs": [],
   "source": [
    "# loop though each track, i will follow the below sequence to adding records:\n",
    "# Step 1: add new artist\n",
    "# Step 2: get artist_id generated by the Step 1\n",
    "# Step 3: add new album (use the artist_id from the Step 2)\n",
    "# Step 4: get album_id generated by the Step 3\n",
    "# Step 5: add new genre\n",
    "# step 6: get genre_id generated by the Step 5\n",
    "# step 7: add new track (use album_id from Step 4, genre_id from Step 6)\n",
    "\n",
    "\n",
    "for one_track in list_tracks:\n",
    "    \n",
    "    # extract all informations we need from a individual track\n",
    "    title = get_track_infor(one_track, \"Name\")\n",
    "    album = get_track_infor(one_track, \"Album\")\n",
    "    artist = get_track_infor(one_track, \"Artist\")\n",
    "    genre = get_track_infor(one_track, \"Genre\")\n",
    "    length = get_track_infor(one_track, \"Total Time\")\n",
    "    rating = get_track_infor(one_track, \"Rating\")\n",
    "    count = get_track_infor(one_track, \"Play Count\")\n",
    "    \n",
    "    # Step 1\n",
    "    insert_new_artist(artist)\n",
    "    \n",
    "    # Step 2\n",
    "    artist_id = get_artist_id(artist)\n",
    "    \n",
    "    # Step 3\n",
    "    insert_new_album(album, artist_id)\n",
    "    \n",
    "    # Step 4\n",
    "    album_id = get_album_id(album)\n",
    "    \n",
    "    # Step 5\n",
    "    insert_new_genre(genre)\n",
    "    \n",
    "    # Step 6\n",
    "    genre_id = get_genre_id(genre)\n",
    "    \n",
    "    # Step 7\n",
    "    if artist_id is not None and album_id is not None and genre_id is not None:\n",
    "        curr.execute(\"Insert or Ignore into Track (title, album_id, genre_id, length, rating, count) values (?, ?, ?, ?, ?, ?)\", \n",
    "                     (title, album_id, genre_id, length, rating, count))\n",
    "        connection.commit()    "
   ]
  },
  {
   "cell_type": "code",
   "execution_count": 215,
   "metadata": {
    "collapsed": true
   },
   "outputs": [],
   "source": [
    "############################################ END 3 ###############################################"
   ]
  },
  {
   "cell_type": "code",
   "execution_count": null,
   "metadata": {
    "collapsed": true
   },
   "outputs": [],
   "source": []
  }
 ],
 "metadata": {
  "kernelspec": {
   "display_name": "Python 3",
   "language": "python",
   "name": "python3"
  },
  "language_info": {
   "codemirror_mode": {
    "name": "ipython",
    "version": 3
   },
   "file_extension": ".py",
   "mimetype": "text/x-python",
   "name": "python",
   "nbconvert_exporter": "python",
   "pygments_lexer": "ipython3",
   "version": "3.6.0"
  }
 },
 "nbformat": 4,
 "nbformat_minor": 2
}
